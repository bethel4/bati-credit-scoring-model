{
 "cells": [
  {
   "cell_type": "code",
   "execution_count": 32,
   "id": "2ef86150-3458-486a-ae02-523f685b77ff",
   "metadata": {},
   "outputs": [],
   "source": [
    "import pandas as pd\n",
    "import numpy as np\n",
    "from sklearn.preprocessing import StandardScaler\n",
    "from sklearn.cluster import KMeans\n",
    "# Load your raw data\n",
    "df = pd.read_csv('../data/raw/data.csv')\n",
    "\n",
    "\n"
   ]
  },
  {
   "cell_type": "code",
   "execution_count": 34,
   "id": "187d1fb3-90dc-4421-891b-b5bee03909ac",
   "metadata": {},
   "outputs": [],
   "source": [
    "# Define your categorical and numerical columns\n",
    "categorical_cols = ['ProviderId', 'ProductCategory', 'ChannelId', 'ProductId']\n",
    "numerical_cols = ['Amount', 'Value']"
   ]
  },
  {
   "cell_type": "code",
   "execution_count": 35,
   "id": "8c2310fb-29b9-4043-b0c4-5c537794356e",
   "metadata": {},
   "outputs": [],
   "source": [
    "from sklearn.pipeline import Pipeline\n",
    "from sklearn.compose import ColumnTransformer\n",
    "from sklearn.preprocessing import OneHotEncoder, StandardScaler\n",
    "from sklearn.impute import SimpleImputer\n",
    "\n",
    "# Categorical pipeline\n",
    "categorical_pipeline = Pipeline([\n",
    "    ('imputer', SimpleImputer(strategy='most_frequent')),\n",
    "    ('onehot', OneHotEncoder(handle_unknown='ignore'))\n",
    "])\n",
    "\n",
    "# Numerical pipeline\n",
    "numerical_pipeline = Pipeline([\n",
    "    ('imputer', SimpleImputer(strategy='mean')),\n",
    "    ('scaler', StandardScaler())\n",
    "])\n",
    "\n",
    "# Combine into a ColumnTransformer\n",
    "preprocessor = ColumnTransformer([\n",
    "    ('cat', categorical_pipeline, categorical_cols),\n",
    "    ('num', numerical_pipeline, numerical_cols)\n",
    "])"
   ]
  },
  {
   "cell_type": "code",
   "execution_count": 36,
   "id": "8b6dead0-229a-41f2-8533-4a7cf5371991",
   "metadata": {},
   "outputs": [
    {
     "name": "stdout",
     "output_type": "stream",
     "text": [
      "(95662, 44)\n"
     ]
    }
   ],
   "source": [
    "# Only transform the feature columns, not CustomerId\n",
    "X = df[categorical_cols + numerical_cols]\n",
    "X_processed = preprocessor.fit_transform(X)\n",
    "print(X_processed.shape)  # Should be (n_rows, n_features)"
   ]
  },
  {
   "cell_type": "code",
   "execution_count": 37,
   "id": "1624a56c-eaf3-4e38-86e0-4a0664586efb",
   "metadata": {},
   "outputs": [
    {
     "name": "stdout",
     "output_type": "stream",
     "text": [
      "44\n",
      "['ProviderId_ProviderId_1', 'ProviderId_ProviderId_2', 'ProviderId_ProviderId_3', 'ProviderId_ProviderId_4', 'ProviderId_ProviderId_5', 'ProviderId_ProviderId_6', 'ProductCategory_airtime', 'ProductCategory_data_bundles', 'ProductCategory_financial_services', 'ProductCategory_movies', 'ProductCategory_other', 'ProductCategory_ticket', 'ProductCategory_transport', 'ProductCategory_tv', 'ProductCategory_utility_bill', 'ChannelId_ChannelId_1', 'ChannelId_ChannelId_2', 'ChannelId_ChannelId_3', 'ChannelId_ChannelId_5', 'ProductId_ProductId_1', 'ProductId_ProductId_10', 'ProductId_ProductId_11', 'ProductId_ProductId_12', 'ProductId_ProductId_13', 'ProductId_ProductId_14', 'ProductId_ProductId_15', 'ProductId_ProductId_16', 'ProductId_ProductId_19', 'ProductId_ProductId_2', 'ProductId_ProductId_20', 'ProductId_ProductId_21', 'ProductId_ProductId_22', 'ProductId_ProductId_23', 'ProductId_ProductId_24', 'ProductId_ProductId_27', 'ProductId_ProductId_3', 'ProductId_ProductId_4', 'ProductId_ProductId_5', 'ProductId_ProductId_6', 'ProductId_ProductId_7', 'ProductId_ProductId_8', 'ProductId_ProductId_9', 'Amount', 'Value']\n"
     ]
    }
   ],
   "source": [
    "# Get feature names for the one-hot encoded columns\n",
    "cat_features = preprocessor.named_transformers_['cat']['onehot'].get_feature_names_out(categorical_cols)\n",
    "feature_names = list(cat_features) + numerical_cols\n",
    "print(len(feature_names))  # Should match X_processed.shape[1]\n",
    "print(feature_names)"
   ]
  },
  {
   "cell_type": "code",
   "execution_count": null,
   "id": "bcc2bf98-ff27-4de6-9403-42fbd403e11a",
   "metadata": {},
   "outputs": [],
   "source": [
    "# Create DataFrame with processed features\n",
    "processed_df = pd.DataFrame(X_processed, columns=feature_names)\n",
    "\n",
    "# Add CustomerId as a column\n",
    "processed_df['CustomerId'] = df['CustomerId'].values\n",
    "\n",
    "# Save to CSV\n",
    "processed_df.to_csv('../data/processed/processedData.csv', index=False)\n",
    "print(processed_df.head())"
   ]
  },
  {
   "cell_type": "code",
   "execution_count": 39,
   "id": "0b7c6f37-00e1-48f0-9e6f-92521ccaad89",
   "metadata": {},
   "outputs": [
    {
     "name": "stdout",
     "output_type": "stream",
     "text": [
      "    Recency  Frequency  Monetary\n",
      "0  1.937605  -0.253459 -0.066891\n",
      "1  1.937605  -0.253459 -0.066891\n",
      "2  2.158882  -0.212186 -0.055849\n",
      "3 -0.201408  -0.150278 -0.061655\n",
      "4 -0.717722  -0.201868 -0.055849\n"
     ]
    }
   ],
   "source": [
    "# Select only the RFM columns for scaling\n",
    "rfm_features = rfm[['Recency', 'Frequency', 'Monetary']]\n",
    "\n",
    "# Initialize the scaler\n",
    "scaler = StandardScaler()\n",
    "\n",
    "# Fit and transform the RFM features\n",
    "rfm_scaled = scaler.fit_transform(rfm_features)\n",
    "\n",
    "# Optional: Convert back to DataFrame for easier inspection\n",
    "rfm_scaled_df = pd.DataFrame(rfm_scaled, columns=['Recency', 'Frequency', 'Monetary'])\n",
    "print(rfm_scaled_df.head())"
   ]
  },
  {
   "cell_type": "code",
   "execution_count": 40,
   "id": "e965bca7-ee33-438d-84ec-26a769eac0a6",
   "metadata": {},
   "outputs": [
    {
     "name": "stdout",
     "output_type": "stream",
     "text": [
      "        CustomerId  Recency  Frequency  Monetary\n",
      "0     CustomerId_1       84          1  -10000.0\n",
      "1    CustomerId_10       84          1  -10000.0\n",
      "2  CustomerId_1001       90          5   20000.0\n",
      "3  CustomerId_1002       26         11    4225.0\n",
      "4  CustomerId_1003       12          6   20000.0\n"
     ]
    }
   ],
   "source": [
    "# Ensure TransactionStartTime is datetime\n",
    "df['TransactionStartTime'] = pd.to_datetime(df['TransactionStartTime'])\n",
    "\n",
    "# Define the snapshot date\n",
    "snapshot_date = df['TransactionStartTime'].max() + pd.Timedelta(days=1)\n",
    "\n",
    "# Group by CustomerId to calculate RFM\n",
    "rfm = df.groupby('CustomerId').agg({\n",
    "    'TransactionStartTime': lambda x: (snapshot_date - x.max()).days,  # Recency\n",
    "    'CustomerId': 'count',                                            # Frequency\n",
    "    'Amount': 'sum'                                                   # Monetary\n",
    "}).rename(columns={\n",
    "    'TransactionStartTime': 'Recency',\n",
    "    'CustomerId': 'Frequency',\n",
    "    'Amount': 'Monetary'\n",
    "}).reset_index()\n",
    "\n",
    "# Display the first few rows\n",
    "print(rfm.head())"
   ]
  },
  {
   "cell_type": "code",
   "execution_count": 41,
   "id": "953093c1-9b2a-4b21-8a2e-a9619e10e30f",
   "metadata": {},
   "outputs": [
    {
     "name": "stdout",
     "output_type": "stream",
     "text": [
      "           Recency    Frequency      Monetary\n",
      "Cluster                                      \n",
      "0        61.859846     7.726699  8.172379e+04\n",
      "1        29.000000  4091.000000 -1.049000e+08\n",
      "2        12.716076    34.807692  2.726546e+05\n",
      "        CustomerId  Recency  Frequency  Monetary  Cluster\n",
      "0     CustomerId_1       84          1  -10000.0        0\n",
      "1    CustomerId_10       84          1  -10000.0        0\n",
      "2  CustomerId_1001       90          5   20000.0        0\n",
      "3  CustomerId_1002       26         11    4225.0        2\n",
      "4  CustomerId_1003       12          6   20000.0        2\n"
     ]
    }
   ],
   "source": [
    "# Set the number of clusters and random_state for reproducibility\n",
    "n_clusters = 3\n",
    "random_state = 42\n",
    "\n",
    "# Initialize and fit KMeans\n",
    "kmeans = KMeans(n_clusters=n_clusters, random_state=random_state)\n",
    "rfm['Cluster'] = kmeans.fit_predict(rfm_scaled)\n",
    "\n",
    "# Inspect the cluster assignments\n",
    "print(rfm.groupby('Cluster')[['Recency', 'Frequency', 'Monetary']].mean())\n",
    "print(rfm.head())"
   ]
  },
  {
   "cell_type": "code",
   "execution_count": 42,
   "id": "4b386db6-354a-423d-ac8f-5d52f72dc3be",
   "metadata": {},
   "outputs": [
    {
     "name": "stdout",
     "output_type": "stream",
     "text": [
      "        CustomerId  Cluster  is_high_risk\n",
      "0     CustomerId_1        0             1\n",
      "1    CustomerId_10        0             1\n",
      "2  CustomerId_1001        0             1\n",
      "3  CustomerId_1002        2             0\n",
      "4  CustomerId_1003        2             0\n"
     ]
    }
   ],
   "source": [
    "# Assign high risk to customers in Cluster 0\n",
    "high_risk_cluster = 0  # Based on your analysis above\n",
    "\n",
    "rfm['is_high_risk'] = (rfm['Cluster'] == high_risk_cluster).astype(int)\n",
    "\n",
    "# Check the result\n",
    "print(rfm[['CustomerId', 'Cluster', 'is_high_risk']].head())"
   ]
  },
  {
   "cell_type": "code",
   "execution_count": 43,
   "id": "96571f60-4fd6-4808-bd4f-a456c7999ab4",
   "metadata": {},
   "outputs": [
    {
     "name": "stdout",
     "output_type": "stream",
     "text": [
      "                                                   0       CustomerId  \\\n",
      "0    (0, 5)\\t1.0\\n  (0, 6)\\t1.0\\n  (0, 17)\\t1.0\\n...  CustomerId_4406   \n",
      "1    (0, 3)\\t1.0\\n  (0, 8)\\t1.0\\n  (0, 16)\\t1.0\\n...  CustomerId_4406   \n",
      "2    (0, 5)\\t1.0\\n  (0, 6)\\t1.0\\n  (0, 17)\\t1.0\\n...  CustomerId_4683   \n",
      "3    (0, 0)\\t1.0\\n  (0, 14)\\t1.0\\n  (0, 17)\\t1.0\\...   CustomerId_988   \n",
      "4    (0, 3)\\t1.0\\n  (0, 8)\\t1.0\\n  (0, 16)\\t1.0\\n...   CustomerId_988   \n",
      "\n",
      "   is_high_risk  \n",
      "0             0  \n",
      "1             0  \n",
      "2             1  \n",
      "3             0  \n",
      "4             0  \n"
     ]
    }
   ],
   "source": [
    "\n",
    "merged_df = processed_df.merge(rfm[['CustomerId', 'is_high_risk']], on='CustomerId', how='left')\n",
    "print(merged_df.head())"
   ]
  },
  {
   "cell_type": "code",
   "execution_count": 44,
   "id": "c35ccfc8-a2e1-4a8d-95ae-25d3de1153d3",
   "metadata": {},
   "outputs": [],
   "source": [
    "import numpy as np\n",
    "\n",
    "# If X_processed is a sparse matrix, convert it to a dense array\n",
    "if hasattr(X_processed, \"toarray\"):\n",
    "    X_processed = X_processed.toarray()"
   ]
  },
  {
   "cell_type": "code",
   "execution_count": 46,
   "id": "f21f90ce-4ec1-4bcc-9a86-6b691416646b",
   "metadata": {},
   "outputs": [
    {
     "name": "stdout",
     "output_type": "stream",
     "text": [
      "   ProviderId_ProviderId_1  ProviderId_ProviderId_2  ProviderId_ProviderId_3  \\\n",
      "0                      0.0                      0.0                      0.0   \n",
      "1                      0.0                      0.0                      0.0   \n",
      "2                      0.0                      0.0                      0.0   \n",
      "3                      1.0                      0.0                      0.0   \n",
      "4                      0.0                      0.0                      0.0   \n",
      "\n",
      "   ProviderId_ProviderId_4  ProviderId_ProviderId_5  ProviderId_ProviderId_6  \\\n",
      "0                      0.0                      0.0                      1.0   \n",
      "1                      1.0                      0.0                      0.0   \n",
      "2                      0.0                      0.0                      1.0   \n",
      "3                      0.0                      0.0                      0.0   \n",
      "4                      1.0                      0.0                      0.0   \n",
      "\n",
      "   ProductCategory_airtime  ProductCategory_data_bundles  \\\n",
      "0                      1.0                           0.0   \n",
      "1                      0.0                           0.0   \n",
      "2                      1.0                           0.0   \n",
      "3                      0.0                           0.0   \n",
      "4                      0.0                           0.0   \n",
      "\n",
      "   ProductCategory_financial_services  ProductCategory_movies  ...  \\\n",
      "0                                 0.0                     0.0  ...   \n",
      "1                                 1.0                     0.0  ...   \n",
      "2                                 0.0                     0.0  ...   \n",
      "3                                 0.0                     0.0  ...   \n",
      "4                                 1.0                     0.0  ...   \n",
      "\n",
      "   ProductId_ProductId_3  ProductId_ProductId_4  ProductId_ProductId_5  \\\n",
      "0                    0.0                    0.0                    0.0   \n",
      "1                    0.0                    0.0                    0.0   \n",
      "2                    0.0                    0.0                    0.0   \n",
      "3                    0.0                    0.0                    0.0   \n",
      "4                    0.0                    0.0                    0.0   \n",
      "\n",
      "   ProductId_ProductId_6  ProductId_ProductId_7  ProductId_ProductId_8  \\\n",
      "0                    0.0                    0.0                    0.0   \n",
      "1                    1.0                    0.0                    0.0   \n",
      "2                    0.0                    0.0                    0.0   \n",
      "3                    0.0                    0.0                    0.0   \n",
      "4                    1.0                    0.0                    0.0   \n",
      "\n",
      "   ProductId_ProductId_9    Amount     Value       CustomerId  \n",
      "0                    0.0 -0.046371 -0.072291  CustomerId_4406  \n",
      "1                    0.0 -0.054643 -0.080251  CustomerId_4406  \n",
      "2                    0.0 -0.050426 -0.076352  CustomerId_4683  \n",
      "3                    0.0  0.107717  0.096648   CustomerId_988  \n",
      "4                    0.0 -0.059704 -0.075183   CustomerId_988  \n",
      "\n",
      "[5 rows x 45 columns]\n"
     ]
    }
   ],
   "source": [
    "processed_df = pd.DataFrame(X_processed, columns=feature_names)\n",
    "processed_df['CustomerId'] = df['CustomerId'].values\n",
    "processed_df.to_csv('../data/processed/processed_data.csv', index=False)\n",
    "print(processed_df.head())"
   ]
  },
  {
   "cell_type": "code",
   "execution_count": 48,
   "id": "62573bcd-9f86-4c81-80fa-0c28db97c62e",
   "metadata": {},
   "outputs": [],
   "source": [
    "   X_processed = preprocessor.fit_transform(X)\n",
    "   if hasattr(X_processed, \"toarray\"):\n",
    "       X_processed = X_processed.toarray()"
   ]
  },
  {
   "cell_type": "code",
   "execution_count": 49,
   "id": "31a19fe2-6af8-4f15-bf68-1c7bad4b0759",
   "metadata": {},
   "outputs": [],
   "source": [
    "processed_df = pd.DataFrame(X_processed, columns=feature_names)"
   ]
  },
  {
   "cell_type": "code",
   "execution_count": 50,
   "id": "5c15c766-1ab3-4daa-b66b-86101f6395a3",
   "metadata": {},
   "outputs": [],
   "source": [
    "processed_df['CustomerId'] = df['CustomerId'].values"
   ]
  },
  {
   "cell_type": "code",
   "execution_count": 51,
   "id": "73f27745-05db-4a5c-a584-16222b8d44c0",
   "metadata": {},
   "outputs": [],
   "source": [
    "processed_df.to_csv('../data/processed/processedData.csv', index=False)"
   ]
  },
  {
   "cell_type": "code",
   "execution_count": 52,
   "id": "aca23c02-316b-4937-8696-c57842c22dd0",
   "metadata": {},
   "outputs": [
    {
     "name": "stdout",
     "output_type": "stream",
     "text": [
      "   ProviderId_ProviderId_1  ProviderId_ProviderId_2  ProviderId_ProviderId_3  \\\n",
      "0                      0.0                      0.0                      0.0   \n",
      "1                      0.0                      0.0                      0.0   \n",
      "2                      0.0                      0.0                      0.0   \n",
      "3                      1.0                      0.0                      0.0   \n",
      "4                      0.0                      0.0                      0.0   \n",
      "\n",
      "   ProviderId_ProviderId_4  ProviderId_ProviderId_5  ProviderId_ProviderId_6  \\\n",
      "0                      0.0                      0.0                      1.0   \n",
      "1                      1.0                      0.0                      0.0   \n",
      "2                      0.0                      0.0                      1.0   \n",
      "3                      0.0                      0.0                      0.0   \n",
      "4                      1.0                      0.0                      0.0   \n",
      "\n",
      "   ProductCategory_airtime  ProductCategory_data_bundles  \\\n",
      "0                      1.0                           0.0   \n",
      "1                      0.0                           0.0   \n",
      "2                      1.0                           0.0   \n",
      "3                      0.0                           0.0   \n",
      "4                      0.0                           0.0   \n",
      "\n",
      "   ProductCategory_financial_services  ProductCategory_movies  ...  \\\n",
      "0                                 0.0                     0.0  ...   \n",
      "1                                 1.0                     0.0  ...   \n",
      "2                                 0.0                     0.0  ...   \n",
      "3                                 0.0                     0.0  ...   \n",
      "4                                 1.0                     0.0  ...   \n",
      "\n",
      "   ProductId_ProductId_3  ProductId_ProductId_4  ProductId_ProductId_5  \\\n",
      "0                    0.0                    0.0                    0.0   \n",
      "1                    0.0                    0.0                    0.0   \n",
      "2                    0.0                    0.0                    0.0   \n",
      "3                    0.0                    0.0                    0.0   \n",
      "4                    0.0                    0.0                    0.0   \n",
      "\n",
      "   ProductId_ProductId_6  ProductId_ProductId_7  ProductId_ProductId_8  \\\n",
      "0                    0.0                    0.0                    0.0   \n",
      "1                    1.0                    0.0                    0.0   \n",
      "2                    0.0                    0.0                    0.0   \n",
      "3                    0.0                    0.0                    0.0   \n",
      "4                    1.0                    0.0                    0.0   \n",
      "\n",
      "   ProductId_ProductId_9    Amount     Value       CustomerId  \n",
      "0                    0.0 -0.046371 -0.072291  CustomerId_4406  \n",
      "1                    0.0 -0.054643 -0.080251  CustomerId_4406  \n",
      "2                    0.0 -0.050426 -0.076352  CustomerId_4683  \n",
      "3                    0.0  0.107717  0.096648   CustomerId_988  \n",
      "4                    0.0 -0.059704 -0.075183   CustomerId_988  \n",
      "\n",
      "[5 rows x 45 columns]\n"
     ]
    }
   ],
   "source": [
    "print(processed_df.head())"
   ]
  },
  {
   "cell_type": "code",
   "execution_count": 53,
   "id": "1ee8940a-afcb-421f-82a7-c677e2b04716",
   "metadata": {},
   "outputs": [
    {
     "name": "stdout",
     "output_type": "stream",
     "text": [
      "   ProviderId_ProviderId_1  ProviderId_ProviderId_2  ProviderId_ProviderId_3  \\\n",
      "0                      0.0                      0.0                      0.0   \n",
      "1                      0.0                      0.0                      0.0   \n",
      "2                      0.0                      0.0                      0.0   \n",
      "3                      1.0                      0.0                      0.0   \n",
      "4                      0.0                      0.0                      0.0   \n",
      "\n",
      "   ProviderId_ProviderId_4  ProviderId_ProviderId_5  ProviderId_ProviderId_6  \\\n",
      "0                      0.0                      0.0                      1.0   \n",
      "1                      1.0                      0.0                      0.0   \n",
      "2                      0.0                      0.0                      1.0   \n",
      "3                      0.0                      0.0                      0.0   \n",
      "4                      1.0                      0.0                      0.0   \n",
      "\n",
      "   ProductCategory_airtime  ProductCategory_data_bundles  \\\n",
      "0                      1.0                           0.0   \n",
      "1                      0.0                           0.0   \n",
      "2                      1.0                           0.0   \n",
      "3                      0.0                           0.0   \n",
      "4                      0.0                           0.0   \n",
      "\n",
      "   ProductCategory_financial_services  ProductCategory_movies  ...  \\\n",
      "0                                 0.0                     0.0  ...   \n",
      "1                                 1.0                     0.0  ...   \n",
      "2                                 0.0                     0.0  ...   \n",
      "3                                 0.0                     0.0  ...   \n",
      "4                                 1.0                     0.0  ...   \n",
      "\n",
      "   ProductId_ProductId_4  ProductId_ProductId_5  ProductId_ProductId_6  \\\n",
      "0                    0.0                    0.0                    0.0   \n",
      "1                    0.0                    0.0                    1.0   \n",
      "2                    0.0                    0.0                    0.0   \n",
      "3                    0.0                    0.0                    0.0   \n",
      "4                    0.0                    0.0                    1.0   \n",
      "\n",
      "   ProductId_ProductId_7  ProductId_ProductId_8  ProductId_ProductId_9  \\\n",
      "0                    0.0                    0.0                    0.0   \n",
      "1                    0.0                    0.0                    0.0   \n",
      "2                    0.0                    0.0                    0.0   \n",
      "3                    0.0                    0.0                    0.0   \n",
      "4                    0.0                    0.0                    0.0   \n",
      "\n",
      "     Amount     Value       CustomerId  is_high_risk  \n",
      "0 -0.046371 -0.072291  CustomerId_4406             0  \n",
      "1 -0.054643 -0.080251  CustomerId_4406             0  \n",
      "2 -0.050426 -0.076352  CustomerId_4683             1  \n",
      "3  0.107717  0.096648   CustomerId_988             0  \n",
      "4 -0.059704 -0.075183   CustomerId_988             0  \n",
      "\n",
      "[5 rows x 46 columns]\n"
     ]
    }
   ],
   "source": [
    "# Assuming rfm has columns 'CustomerId' and 'is_high_risk'\n",
    "merged_df = processed_df.merge(rfm[['CustomerId', 'is_high_risk']], on='CustomerId', how='left')\n",
    "print(merged_df.head())"
   ]
  },
  {
   "cell_type": "code",
   "execution_count": null,
   "id": "48c19e19-43d4-4aab-bb72-6ebbdcb8c9cb",
   "metadata": {},
   "outputs": [],
   "source": []
  }
 ],
 "metadata": {
  "kernelspec": {
   "display_name": "Python 3 (ipykernel)",
   "language": "python",
   "name": "python3"
  },
  "language_info": {
   "codemirror_mode": {
    "name": "ipython",
    "version": 3
   },
   "file_extension": ".py",
   "mimetype": "text/x-python",
   "name": "python",
   "nbconvert_exporter": "python",
   "pygments_lexer": "ipython3",
   "version": "3.10.12"
  }
 },
 "nbformat": 4,
 "nbformat_minor": 5
}
