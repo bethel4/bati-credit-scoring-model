{
 "cells": [
  {
   "cell_type": "code",
   "execution_count": 4,
   "id": "f40bd12d-ec8f-4512-95dc-219a62c47575",
   "metadata": {},
   "outputs": [
    {
     "name": "stdout",
     "output_type": "stream",
     "text": [
      "Processed data saved to data/processed/processed_data.csv\n",
      "Processed data saved to data/processed/processed_data.csv\n"
     ]
    }
   ],
   "source": [
    "import sys\n",
    "import os\n",
    "\n",
    "# Add the project root directory to sys.path\n",
    "sys.path.append(os.path.abspath(os.path.join(os.getcwd(), '..')))\n",
    "# Import the process_data function\n",
    "from src.data_processing import process_data\n",
    "\n",
    "# Define the path to the raw data file\n",
    "input_path = '../data/raw/data.csv'  # Adjust path if needed\n",
    "\n",
    "# Run the processing pipeline\n",
    "processed = process_data(input_path)\n",
    "\n",
    "# If processed is a numpy array (as returned by sklearn pipeline), convert to DataFrame\n",
    "import pandas as pd\n",
    "if not isinstance(processed, pd.DataFrame):\n",
    "    processed = pd.DataFrame(processed)\n",
    "\n",
    "# Save the processed data to CSV\n",
    "processed.to_csv('../data/processed/processed_data.csv', index=False)\n",
    "print('Processed data saved to data/processed/processed_data.csv')# Import the process_data function\n",
    "from src.data_processing import process_data\n",
    "\n",
    "# Define the path to the raw data file\n",
    "input_path = '../data/raw/data.csv'  # Adjust path if needed\n",
    "\n",
    "# Run the processing pipeline\n",
    "processed = process_data(input_path)\n",
    "\n",
    "# If processed is a numpy array (as returned by sklearn pipeline), convert to DataFrame\n",
    "import pandas as pd\n",
    "if not isinstance(processed, pd.DataFrame):\n",
    "    processed = pd.DataFrame(processed)\n",
    "\n",
    "# Save the processed data to CSV\n",
    "processed.to_csv('../data/processed/processed_data.csv', index=False)\n",
    "print('Processed data saved to data/processed/processed_data.csv')"
   ]
  },
  {
   "cell_type": "code",
   "execution_count": null,
   "id": "13c17209-eb1e-45d2-b158-7fc81ef705ec",
   "metadata": {},
   "outputs": [],
   "source": []
  }
 ],
 "metadata": {
  "kernelspec": {
   "display_name": "Python 3 (ipykernel)",
   "language": "python",
   "name": "python3"
  },
  "language_info": {
   "codemirror_mode": {
    "name": "ipython",
    "version": 3
   },
   "file_extension": ".py",
   "mimetype": "text/x-python",
   "name": "python",
   "nbconvert_exporter": "python",
   "pygments_lexer": "ipython3",
   "version": "3.10.12"
  }
 },
 "nbformat": 4,
 "nbformat_minor": 5
}
